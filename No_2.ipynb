{
 "cells": [
  {
   "cell_type": "markdown",
   "metadata": {},
   "source": [
    "## Technical Test - No 2\n",
    "\n",
    "Buatkan Fungsi Untuk yang menerima nilai integer (n), lalu melakukan perulangan sebanyak nilai (n), setiap nilai perulangan nya di kembalikan, bila nilai pada perulangan nya habis di bagi 3 maka akan menampilkan kata “FIZZ” bila habis di bagi 5 menampilkan “BUZZ” dan Bila Dapat di Bagi 5 atau 3 “FIZZBUZZ”"
   ]
  },
  {
   "cell_type": "code",
   "execution_count": 3,
   "metadata": {},
   "outputs": [
    {
     "name": "stdout",
     "output_type": "stream",
     "text": [
      "1\n",
      "2\n",
      "Fizz\n",
      "4\n",
      "Buzz\n",
      "Fizz\n",
      "7\n",
      "8\n",
      "Fizz\n",
      "Buzz\n",
      "11\n",
      "Fizz\n",
      "13\n",
      "14\n",
      "Fizz Buzz\n"
     ]
    }
   ],
   "source": [
    "def logicFizzBuzz(n):\n",
    "    for fizzbuzz in range(1, n + 1):\n",
    "        if fizzbuzz % 3 == 0 and fizzbuzz % 5 == 0:\n",
    "            print(\"Fizz Buzz\")\n",
    "        elif fizzbuzz % 3 == 0:\n",
    "            print(\"Fizz\")\n",
    "        elif fizzbuzz % 5 == 0:\n",
    "            print(\"Buzz\")\n",
    "        else:\n",
    "            print(fizzbuzz)\n",
    "\n",
    "logicFizzBuzz(15)"
   ]
  }
 ],
 "metadata": {
  "kernelspec": {
   "display_name": "Python 3",
   "language": "python",
   "name": "python3"
  },
  "language_info": {
   "codemirror_mode": {
    "name": "ipython",
    "version": 3
   },
   "file_extension": ".py",
   "mimetype": "text/x-python",
   "name": "python",
   "nbconvert_exporter": "python",
   "pygments_lexer": "ipython3",
   "version": "3.11.2"
  },
  "orig_nbformat": 4
 },
 "nbformat": 4,
 "nbformat_minor": 2
}
