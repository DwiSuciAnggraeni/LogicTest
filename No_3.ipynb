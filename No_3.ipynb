{
 "cells": [
  {
   "cell_type": "markdown",
   "metadata": {},
   "source": [
    "## Technical Test - No 3\n",
    "Buatlah fungsi untuk menghitung jumlah huruf fokal pada parameter yang di inputkan\n",
    "\n",
    "Contoh :\\\n",
    "hitungVokal('Indonesia')\\\n",
    "Jumlah Vokal : 5\n"
   ]
  },
  {
   "cell_type": "code",
   "execution_count": 1,
   "metadata": {},
   "outputs": [
    {
     "name": "stdout",
     "output_type": "stream",
     "text": [
      "Jumlah Vokal : 5\n"
     ]
    }
   ],
   "source": [
    "def hitungVokal(kata):\n",
    "    kata= kata.lower()\n",
    "    jumlah_vokal=0\n",
    "    vokal= 'aiueo'\n",
    "\n",
    "    for huruf in kata:\n",
    "        if huruf in vokal:\n",
    "            jumlah_vokal += 1\n",
    "    return jumlah_vokal\n",
    "\n",
    "jumlah = hitungVokal('Indonesia')\n",
    "print(f\"Jumlah Vokal : {jumlah}\")"
   ]
  }
 ],
 "metadata": {
  "kernelspec": {
   "display_name": "Python 3",
   "language": "python",
   "name": "python3"
  },
  "language_info": {
   "codemirror_mode": {
    "name": "ipython",
    "version": 3
   },
   "file_extension": ".py",
   "mimetype": "text/x-python",
   "name": "python",
   "nbconvert_exporter": "python",
   "pygments_lexer": "ipython3",
   "version": "3.11.2"
  },
  "orig_nbformat": 4
 },
 "nbformat": 4,
 "nbformat_minor": 2
}
